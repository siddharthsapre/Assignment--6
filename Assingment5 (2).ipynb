{
 "cells": [
  {
   "cell_type": "code",
   "execution_count": null,
   "id": "8dbd3fd7-6f66-4b84-a305-ec637f58f542",
   "metadata": {},
   "outputs": [],
   "source": [
    "Marks= int(input(\"Enter the number of marks obtained\"))\n",
    "\n",
    "if Marks>90 :\n",
    "    print(\"Grade obtained is A\")\n",
    "elif 80<Marks<=90:\n",
    "    print(\"Grade obtained is B\")\n",
    "elif 60<Marks<=80:\n",
    "    print(\"Grade obtaind is C\")\n",
    "else:\n",
    "    print(\"Grade obtained is D\")"
   ]
  },
  {
   "cell_type": "code",
   "execution_count": 26,
   "id": "dc6a5b1f-c724-4857-8c08-72b1d501d953",
   "metadata": {},
   "outputs": [
    {
     "name": "stdin",
     "output_type": "stream",
     "text": [
      "Enter the cost price of a bike 25\n"
     ]
    },
    {
     "name": "stdout",
     "output_type": "stream",
     "text": [
      "1.25\n"
     ]
    }
   ],
   "source": [
    "cost_price=float(input(\"Enter the cost price of a bike\"))\n",
    "\n",
    "\n",
    "if cost_price>100000:\n",
    "    tax_paybale1=(cost_price*15)/100\n",
    "    print(tax_paybale1)\n",
    "elif 50000<cost_price<=100000:\n",
    "    tax_paybale2=(cost_price*10)/100\n",
    "    print(tax_paybale2)\n",
    "else:\n",
    "     tax_paybale3=(cost_price*5)/100\n",
    "     print(tax_paybale3)\n"
   ]
  },
  {
   "cell_type": "code",
   "execution_count": 32,
   "id": "bb00054b-4bc8-44d4-8a22-43723166a41b",
   "metadata": {},
   "outputs": [
    {
     "name": "stdin",
     "output_type": "stream",
     "text": [
      "Enter the city of your choise Agra\n"
     ]
    },
    {
     "name": "stdout",
     "output_type": "stream",
     "text": [
      "Monument is Taj Mahal\n"
     ]
    }
   ],
   "source": [
    "city=str(input(\"Enter the city of your choise\"))\n",
    "\n",
    "if city==\"Delhi\":\n",
    "    print(\"Monument is Red Fort\")\n",
    "elif city==\"Agra\":\n",
    "    print(\"Monument is Taj Mahal\")\n",
    "elif city==\"Jaipur\":\n",
    "    print(\"Monument is Jal Mahal\")\n",
    "else:\n",
    "    print(\"Wrong entry\")"
   ]
  },
  {
   "cell_type": "code",
   "execution_count": 75,
   "id": "cac6c764-bc13-4765-9664-ddb6efb66951",
   "metadata": {},
   "outputs": [
    {
     "name": "stdin",
     "output_type": "stream",
     "text": [
      "Enter your number 8522\n"
     ]
    },
    {
     "name": "stdout",
     "output_type": "stream",
     "text": [
      "1\n",
      "2\n",
      "3\n",
      "4\n",
      "5\n",
      "6\n",
      "7\n"
     ]
    }
   ],
   "source": [
    "number=int(input(\"Enter your number\"))\n",
    "n=0\n",
    "while number>=10:\n",
    "    n=n+1\n",
    "    number=number/3\n",
    "    print(n)"
   ]
  },
  {
   "cell_type": "code",
   "execution_count": 78,
   "id": "069c1c76-f8e1-4e48-b93c-c4256db8969e",
   "metadata": {
    "jp-MarkdownHeadingCollapsed": true,
    "tags": []
   },
   "outputs": [],
   "source": [
    "def test25(number):\n",
    "    n=0\n",
    "    while number >=10:\n",
    "        number=number/3\n",
    "        n=n+1\n",
    "        print(n)"
   ]
  },
  {
   "cell_type": "code",
   "execution_count": 77,
   "id": "b0882c84-6239-49ca-a8a7-1b9a644d9cce",
   "metadata": {},
   "outputs": [
    {
     "name": "stdout",
     "output_type": "stream",
     "text": [
      "1\n",
      "2\n",
      "3\n",
      "4\n",
      "5\n",
      "6\n",
      "7\n"
     ]
    }
   ],
   "source": [
    "test25(8522)\n"
   ]
  },
  {
   "cell_type": "markdown",
   "id": "6ab83a1f-c8d7-4677-9baa-726dc202489d",
   "metadata": {},
   "source": [
    "A while loop in Python is used when you want to repeatedly execute a block of code as long as a certain condition is True. It is particularly useful when you don't know in advance how many times the loop should run, and you want the loop to continue until a specific condition is met.\n",
    "\n",
    "Example \n",
    "\n",
    "number=int(input(\"emter any number\"))\n",
    "n=1\n",
    "while number >10:\n",
    "    k=number *n\n",
    "    print(k)\n",
    "    n=n+1\n",
    "    number=number-1\n"
   ]
  },
  {
   "cell_type": "markdown",
   "id": "965cb89c-66e2-4aa4-9540-f25037e6e29e",
   "metadata": {},
   "source": [
    "A nested while loop is a programming construct in which one while loop is placed inside another while loop. \n",
    "This means that you have a loop (the inner loop) enclosed within another loop (the outer loop). The inner loop \n",
    "will run repeatedly until its condition is no longer true, and for each iteration of the inner loop, the outer loop\n",
    "may also iterate once.\n",
    "\n",
    "Example \n",
    "\n",
    "outer_count = 1\n",
    "\n",
    "while outer_count <= 3:\n",
    "    inner_count = 1\n",
    "    print(\"Outer loop iteration:\", outer_count)\n",
    "    \n",
    "    while inner_count <= 2:\n",
    "        print(\"Inner loop iteration:\", inner_count)\n",
    "        inner_count += 1\n",
    "    \n",
    "    outer_count += 1"
   ]
  },
  {
   "cell_type": "code",
   "execution_count": 15,
   "id": "82ce4c56-5d3a-46d7-8fbd-82b2f6bcdab6",
   "metadata": {},
   "outputs": [
    {
     "name": "stdout",
     "output_type": "stream",
     "text": [
      "10\n",
      "9\n",
      "8\n",
      "7\n",
      "6\n",
      "5\n",
      "4\n",
      "3\n",
      "2\n",
      "1\n"
     ]
    }
   ],
   "source": [
    "n=10\n",
    "\n",
    "while n>0:\n",
    "    print(n)\n",
    "    n=n-1\n",
    "    \n"
   ]
  },
  {
   "cell_type": "code",
   "execution_count": null,
   "id": "03933b76-88aa-4270-b5f8-ab65c4dea930",
   "metadata": {},
   "outputs": [],
   "source": []
  },
  {
   "cell_type": "code",
   "execution_count": null,
   "id": "79a8dcfa-e315-46d4-97dd-c707a54bc549",
   "metadata": {},
   "outputs": [],
   "source": []
  },
  {
   "cell_type": "code",
   "execution_count": null,
   "id": "ea5bb3c7-c48c-4928-b410-d57c0f70539c",
   "metadata": {},
   "outputs": [],
   "source": []
  },
  {
   "cell_type": "code",
   "execution_count": null,
   "id": "7ed8f2b6-63dc-45ba-8a84-c3761e288bf4",
   "metadata": {},
   "outputs": [],
   "source": []
  },
  {
   "cell_type": "code",
   "execution_count": null,
   "id": "0d775236-5937-4614-98c6-92fac7ea4c31",
   "metadata": {},
   "outputs": [],
   "source": []
  },
  {
   "cell_type": "code",
   "execution_count": null,
   "id": "47171457-12b9-4edd-9ea5-846d3b149221",
   "metadata": {},
   "outputs": [],
   "source": []
  },
  {
   "cell_type": "code",
   "execution_count": null,
   "id": "59d958ea-0d0a-4042-9d26-e6520a849c63",
   "metadata": {},
   "outputs": [],
   "source": []
  },
  {
   "cell_type": "code",
   "execution_count": null,
   "id": "07529438-0896-493b-b01e-5ee38f5d098f",
   "metadata": {},
   "outputs": [],
   "source": []
  },
  {
   "cell_type": "code",
   "execution_count": null,
   "id": "972fc70c-fb2a-47a9-9223-6c1219425015",
   "metadata": {},
   "outputs": [],
   "source": []
  },
  {
   "cell_type": "code",
   "execution_count": null,
   "id": "c65725b9-5c0e-4f8b-a2b6-b1daeb5671af",
   "metadata": {},
   "outputs": [],
   "source": []
  },
  {
   "cell_type": "code",
   "execution_count": null,
   "id": "68a59913-3f05-4e15-b6e7-f78e0fa0c444",
   "metadata": {},
   "outputs": [],
   "source": []
  },
  {
   "cell_type": "code",
   "execution_count": null,
   "id": "d00c81f9-7e7c-4dc2-be1a-73d09e34e2c8",
   "metadata": {},
   "outputs": [],
   "source": []
  },
  {
   "cell_type": "code",
   "execution_count": null,
   "id": "95fd894b-0040-4f25-9916-e18694fe59f9",
   "metadata": {},
   "outputs": [],
   "source": []
  },
  {
   "cell_type": "code",
   "execution_count": null,
   "id": "5ff72736-41c3-4a97-84e5-cc38b479bb6e",
   "metadata": {},
   "outputs": [],
   "source": []
  },
  {
   "cell_type": "code",
   "execution_count": null,
   "id": "241a5ced-d079-4f9b-9bb2-4494c6ff25b4",
   "metadata": {},
   "outputs": [],
   "source": []
  },
  {
   "cell_type": "code",
   "execution_count": null,
   "id": "e2f1674b-96dc-406b-90d4-9166b321ea49",
   "metadata": {},
   "outputs": [],
   "source": []
  },
  {
   "cell_type": "code",
   "execution_count": null,
   "id": "7855df5d-01a6-4c1e-8082-1cf0c12f2fa6",
   "metadata": {},
   "outputs": [],
   "source": []
  },
  {
   "cell_type": "code",
   "execution_count": null,
   "id": "a3509e35-825f-4324-b718-bbdbf7ce6db0",
   "metadata": {},
   "outputs": [],
   "source": []
  },
  {
   "cell_type": "code",
   "execution_count": null,
   "id": "76cc7ffd-d8f2-4f28-92b4-a973ce5eacca",
   "metadata": {},
   "outputs": [],
   "source": []
  },
  {
   "cell_type": "code",
   "execution_count": null,
   "id": "67c3ea5c-d0bc-4663-a766-b7b8f45f8135",
   "metadata": {},
   "outputs": [],
   "source": []
  },
  {
   "cell_type": "code",
   "execution_count": null,
   "id": "09eb96ab-5c20-4c99-9dcd-3c82b40d64e7",
   "metadata": {},
   "outputs": [],
   "source": []
  },
  {
   "cell_type": "code",
   "execution_count": null,
   "id": "f7b43778-f798-4504-9c18-4daa57d4e353",
   "metadata": {},
   "outputs": [],
   "source": []
  },
  {
   "cell_type": "code",
   "execution_count": null,
   "id": "4f1dab3a-58f1-4296-ae91-81bfd4c26042",
   "metadata": {},
   "outputs": [],
   "source": []
  },
  {
   "cell_type": "code",
   "execution_count": null,
   "id": "793fde06-910e-4f52-bba4-d3fb73394d52",
   "metadata": {},
   "outputs": [],
   "source": []
  },
  {
   "cell_type": "code",
   "execution_count": null,
   "id": "0b7761cd-8d69-4dfa-8e1f-5d9feb458ab4",
   "metadata": {},
   "outputs": [],
   "source": []
  },
  {
   "cell_type": "code",
   "execution_count": null,
   "id": "a510a0fd-3fa8-446e-892c-737b55f85f67",
   "metadata": {},
   "outputs": [],
   "source": []
  },
  {
   "cell_type": "code",
   "execution_count": null,
   "id": "7e43dcbc-5fae-47be-bcef-61e05a350fd8",
   "metadata": {},
   "outputs": [],
   "source": []
  },
  {
   "cell_type": "code",
   "execution_count": null,
   "id": "938d496e-c6a4-47a4-be11-4b3eddde83ff",
   "metadata": {},
   "outputs": [],
   "source": []
  },
  {
   "cell_type": "code",
   "execution_count": null,
   "id": "b09709fc-67e1-488f-b2d6-f09233a17a63",
   "metadata": {},
   "outputs": [],
   "source": []
  },
  {
   "cell_type": "code",
   "execution_count": null,
   "id": "7fcb38e2-ee0f-42bf-a8b4-344522326940",
   "metadata": {},
   "outputs": [],
   "source": []
  },
  {
   "cell_type": "code",
   "execution_count": null,
   "id": "ecfef31e-2ef4-4b31-80ed-320bad4b3e65",
   "metadata": {},
   "outputs": [],
   "source": []
  },
  {
   "cell_type": "code",
   "execution_count": null,
   "id": "54dc7379-2eb1-4def-8095-882b72f3745f",
   "metadata": {},
   "outputs": [],
   "source": []
  },
  {
   "cell_type": "code",
   "execution_count": null,
   "id": "3b7454dc-72e9-4755-aea1-476d4405d66c",
   "metadata": {},
   "outputs": [],
   "source": []
  },
  {
   "cell_type": "code",
   "execution_count": null,
   "id": "688ab49c-094c-4e2c-9c68-94798d352b08",
   "metadata": {},
   "outputs": [],
   "source": []
  },
  {
   "cell_type": "code",
   "execution_count": null,
   "id": "2d0f67b7-9d7f-4b4c-9b89-b2322ff5e2ab",
   "metadata": {},
   "outputs": [],
   "source": []
  },
  {
   "cell_type": "code",
   "execution_count": null,
   "id": "ce7d81c5-d1ab-4417-b52e-2d53847ed8ff",
   "metadata": {},
   "outputs": [],
   "source": []
  },
  {
   "cell_type": "code",
   "execution_count": null,
   "id": "0306604c-08f7-47ce-afbe-57101144fd9b",
   "metadata": {},
   "outputs": [],
   "source": []
  },
  {
   "cell_type": "code",
   "execution_count": null,
   "id": "7446d10d-3f7c-4eb0-bc8d-7f98bb51431b",
   "metadata": {},
   "outputs": [],
   "source": []
  }
 ],
 "metadata": {
  "kernelspec": {
   "display_name": "Python 3 (ipykernel)",
   "language": "python",
   "name": "python3"
  },
  "language_info": {
   "codemirror_mode": {
    "name": "ipython",
    "version": 3
   },
   "file_extension": ".py",
   "mimetype": "text/x-python",
   "name": "python",
   "nbconvert_exporter": "python",
   "pygments_lexer": "ipython3",
   "version": "3.10.8"
  }
 },
 "nbformat": 4,
 "nbformat_minor": 5
}
